{
 "cells": [
  {
   "cell_type": "markdown",
   "metadata": {
    "id": "fF_mKd7gqluY"
   },
   "source": [
    "## 1. Complete the following code to find the area of an equilateral triangle. Output should be as displayed"
   ]
  },
  {
   "cell_type": "code",
   "execution_count": 1,
   "metadata": {
    "id": "71wfY6Zdqluh",
    "outputId": "e9fb6ef1-7e40-4dae-de4e-0a11694d1fb6"
   },
   "outputs": [
    {
     "name": "stdout",
     "output_type": "stream",
     "text": [
      "Enter the side of the equilateral triangle: 5\n",
      "Area = 10.825\n"
     ]
    }
   ],
   "source": [
    "import math\n",
    "side = float(input(\"Enter the side of the equilateral triangle: \"))\n",
    "area = ((math.sqrt(3))/4)*pow(side,2)\n",
    "area=round(area,3)\n",
    "print(\"Area =\",area)"
   ]
  },
  {
   "cell_type": "markdown",
   "metadata": {
    "id": "GNQSKiChqlul"
   },
   "source": [
    "## 2. Write a program to count the number of each characters in a string"
   ]
  },
  {
   "cell_type": "code",
   "execution_count": 2,
   "metadata": {
    "id": "xXxaSegaqlun"
   },
   "outputs": [
    {
     "name": "stdout",
     "output_type": "stream",
     "text": [
      "Enter the textvacuum pump\n",
      "v -  1\n",
      "a -  1\n",
      "c -  1\n",
      "u -  3\n",
      "m -  2\n",
      "p -  2\n"
     ]
    }
   ],
   "source": [
    "string = input(\"Enter the text\")\n",
    "for i in range(len(string)):\n",
    "    if len(string) == 0:\n",
    "        break;\n",
    "    ch = string[0]\n",
    "    if ch == ' ' or ch == '\\t':\n",
    "        continue\n",
    "    print(ch + \" - \", string.count(ch))\n",
    "    string = string.replace(ch, '').strip()"
   ]
  },
  {
   "cell_type": "markdown",
   "metadata": {
    "id": "3VL9Xw9bqlun"
   },
   "source": [
    "## 3. Write a program to find the area and perimeter of a rectangle using functions"
   ]
  },
  {
   "cell_type": "code",
   "execution_count": 3,
   "metadata": {
    "id": "BhrNA3Vmqluo"
   },
   "outputs": [
    {
     "name": "stdout",
     "output_type": "stream",
     "text": [
      "enter the length of rectangle3\n",
      "enter the breadth of rectangle4\n",
      "Area of rectangle= 12.0\n",
      "Perimeter of rectangle= 14.0\n"
     ]
    }
   ],
   "source": [
    "l=float(input(\"enter the length of rectangle\"))\n",
    "b=float(input(\"enter the breadth of rectangle\"))\n",
    "area=l*b\n",
    "perimeter=2*(l+b)\n",
    "print(\"Area of rectangle=\", area)\n",
    "print(\"Perimeter of rectangle=\", perimeter)"
   ]
  },
  {
   "cell_type": "markdown",
   "metadata": {
    "id": "mnGuxFJ9qlup"
   },
   "source": [
    "## 4. Write a program to print the fibonacci series till a specified number"
   ]
  },
  {
   "cell_type": "code",
   "execution_count": 4,
   "metadata": {
    "id": "JPASZ22pqlur"
   },
   "outputs": [
    {
     "name": "stdout",
     "output_type": "stream",
     "text": [
      "Enter number of terms needed:5\n",
      "0 1 1 2 3 "
     ]
    }
   ],
   "source": [
    "n=int(input(\"Enter number of terms needed:\"))\n",
    "n1=0\n",
    "n2=1\n",
    "next=0\n",
    "if(n<=0):\n",
    "    print(\"Please enter number greater than 0\")\n",
    "else:\n",
    "    for i in range(0,n):\n",
    "        print(next,end=\" \")\n",
    "        n1=n2\n",
    "        n2=next\n",
    "        next=n1+n2\n",
    "    \n",
    "    "
   ]
  },
  {
   "cell_type": "markdown",
   "metadata": {
    "id": "WXuHxp-qqlus"
   },
   "source": [
    "## 5. Complete the following code to find the minimum of 3 number using conditional statements. Output should be as displayed"
   ]
  },
  {
   "cell_type": "code",
   "execution_count": 5,
   "metadata": {
    "id": "2JErnFiBqluu",
    "outputId": "c26cf69d-0890-4474-8aca-91f5ab335ee7"
   },
   "outputs": [
    {
     "name": "stdout",
     "output_type": "stream",
     "text": [
      "Enter three numbers followed by  : 200 -12 -32\n",
      "First number : 200\n",
      "Second number : -12\n",
      "Third number : -32\n",
      "-12  is smallest\n"
     ]
    }
   ],
   "source": [
    "a,b,c = input(\"Enter three numbers followed by  : \").split()\n",
    "\n",
    "print(\"First number :\",a)\n",
    "print(\"Second number :\",b)\n",
    "print(\"Third number :\",c)\n",
    "if a==b==c:\n",
    "    print(\"Entered numbers are equal!!!\")\n",
    "elif a<b and a<c:\n",
    "    print(a,\" is smallest\")\n",
    "elif b<a and b<c:\n",
    "    print(b,\" is smallest\")\n",
    "else: \n",
    "    print(c,\" is smallest\")"
   ]
  },
  {
   "cell_type": "markdown",
   "metadata": {
    "id": "47XEyvM9qlu1"
   },
   "source": [
    "## 6. Write a program to print star pyramind. The number of rows should be taken as input from the user"
   ]
  },
  {
   "cell_type": "code",
   "execution_count": 6,
   "metadata": {
    "id": "_EBNBtdBqlu2"
   },
   "outputs": [
    {
     "name": "stdout",
     "output_type": "stream",
     "text": [
      "Enter the number of rows: 5\n",
      "        * \n",
      "      * * * \n",
      "    * * * * * \n",
      "  * * * * * * * \n",
      "* * * * * * * * * \n"
     ]
    }
   ],
   "source": [
    "rows = int(input(\"Enter the number of rows: \"))\n",
    "k = 0\n",
    "for i in range(1, rows+1):\n",
    "    for space in range(1, (rows-i)+1):\n",
    "        print(end=\"  \")\n",
    "   \n",
    "    while k!=(2*i-1):\n",
    "        print(\"* \", end=\"\")\n",
    "        k += 1\n",
    "   \n",
    "    k = 0\n",
    "    print()"
   ]
  },
  {
   "cell_type": "markdown",
   "metadata": {
    "id": "hHwTmfm-qlu3"
   },
   "source": [
    "## 7. Complete the following code to convert hour into seconds. Output should be as displayed"
   ]
  },
  {
   "cell_type": "code",
   "execution_count": 7,
   "metadata": {
    "id": "H1IkWh8Mqlu5",
    "outputId": "b1885956-aeb6-47bb-9353-c83842a0888b"
   },
   "outputs": [
    {
     "name": "stdout",
     "output_type": "stream",
     "text": [
      "Enter time in Hours: 12\n",
      "12  Hour is equal to 43200  Seconds\n"
     ]
    }
   ],
   "source": [
    "def to_seconds(t):\n",
    "    t = t * 60 * 60\n",
    "    return t\n",
    "time_in_hours = int(input(\"Enter time in Hours: \"))\n",
    "print(time_in_hours ,\" Hour is equal to\" ,to_seconds(time_in_hours) ,\" Seconds\")"
   ]
  },
  {
   "cell_type": "markdown",
   "metadata": {
    "id": "rJvRC6etqlu7"
   },
   "source": [
    "## 8. Write a program to print multiplication table as below"
   ]
  },
  {
   "cell_type": "code",
   "execution_count": 8,
   "metadata": {
    "id": "kHgDYDOgqlu8",
    "outputId": "afd4c3e5-e0fd-462f-e3a3-add525a5d755"
   },
   "outputs": [
    {
     "name": "stdout",
     "output_type": "stream",
     "text": [
      "Enter a number to find the multiplication table: 67\n",
      "67 x 1 = 67\n",
      "67 x 2 = 134\n",
      "67 x 3 = 201\n",
      "67 x 4 = 268\n",
      "67 x 5 = 335\n",
      "67 x 6 = 402\n",
      "67 x 7 = 469\n",
      "67 x 8 = 536\n",
      "67 x 9 = 603\n",
      "67 x 10 = 670\n"
     ]
    }
   ],
   "source": [
    "num = int(input(\"Enter a number to find the multiplication table: \"))\n",
    "for i in range(1,11):\n",
    "    print(num,\"x\",i,\"=\",num*i)"
   ]
  },
  {
   "cell_type": "markdown",
   "metadata": {
    "id": "C7hk7MF3qlu-"
   },
   "source": [
    "## 9. Write a program to take your 5 favorite food as list and print each as 'I like Biriyani'"
   ]
  },
  {
   "cell_type": "code",
   "execution_count": 9,
   "metadata": {
    "id": "F5fi3Jj1qlu_"
   },
   "outputs": [
    {
     "name": "stdout",
     "output_type": "stream",
     "text": [
      "Enter 5 favorite food items:Icecream Biriyani Friedrice Cheesecake Burger\n",
      "I like Icecream\n",
      "I like Biriyani\n",
      "I like Friedrice\n",
      "I like Cheesecake\n",
      "I like Burger\n"
     ]
    }
   ],
   "source": [
    "food=[]\n",
    "n=input(\"Enter 5 favorite food items:\")\n",
    "list = n.split()\n",
    "for i in range(len(list)):\n",
    "    print(\"I like\",list[i])"
   ]
  }
 ],
 "metadata": {
  "colab": {
   "name": "Q&A activity student file.ipynb",
   "provenance": []
  },
  "kernelspec": {
   "display_name": "Python 3",
   "language": "python",
   "name": "python3"
  },
  "language_info": {
   "codemirror_mode": {
    "name": "ipython",
    "version": 3
   },
   "file_extension": ".py",
   "mimetype": "text/x-python",
   "name": "python",
   "nbconvert_exporter": "python",
   "pygments_lexer": "ipython3",
   "version": "3.8.8"
  }
 },
 "nbformat": 4,
 "nbformat_minor": 1
}
